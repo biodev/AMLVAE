{
 "cells": [
  {
   "cell_type": "code",
   "execution_count": null,
   "metadata": {},
   "outputs": [
    {
     "name": "stdout",
     "output_type": "stream",
     "text": [
      "The autoreload extension is already loaded. To reload it, use:\n",
      "  %reload_ext autoreload\n"
     ]
    }
   ],
   "source": [
    "import pandas as pd \n",
    "from matplotlib import pyplot as plt\n",
    "import seaborn as sbn\n",
    "import numpy as np \n",
    "\n",
    "import torch\n",
    "\n",
    "import torch.nn as nn\n",
    "import torch.nn.functional as F\n",
    "from sklearn.metrics import r2_score\n",
    "from sklearn.metrics import silhouette_score\n",
    "import umap\n",
    "from scipy.stats import spearmanr\n",
    "from statsmodels.stats.multitest import multipletests\n",
    "\n",
    "from amlvae.models.VAE import VAE \n",
    "from amlvae.models.VQVAE import VQVAE \n",
    "from amlvae.models.pVAE import pVAE \n",
    "from amlvae.models.cXVAE import cXVAE \n",
    "from amlvae.train.Trainer import Trainer\n",
    "from amlvae.data.ExprProcessor import ExprProcessor\n",
    "from amlvae.data.MutProcessor import MutProcessor\n",
    "from amlvae.data.ClinProcessor import ClinProcessor\n",
    "\n",
    "from sklearn.preprocessing import LabelEncoder\n",
    "from sklearn.preprocessing import OneHotEncoder\n",
    "\n",
    "\n",
    "# auto reimport \n",
    "%load_ext autoreload\n",
    "%autoreload 2"
   ]
  },
  {
   "cell_type": "code",
   "execution_count": null,
   "metadata": {},
   "outputs": [],
   "source": [
    "expr_long = pd.read_csv('../../../aml_train.csv')\n",
    "clin = pd.read_csv('../../../beataml_clinical_for_inputs.csv')\n",
    "mut_train = pd.read_csv('~/aml_train.csv').merge(clin[['gdc_id', 'dbgap_dnaseq_sample']].drop_duplicates(), on='dbgap_dnaseq_sample').drop(['dbgap_dnaseq_sample'], axis=1).dropna().set_index('gdc_id')"
   ]
  },
  {
   "cell_type": "code",
   "execution_count": null,
   "metadata": {},
   "outputs": [],
   "source": [
    "EP = ExprProcessor(expr_long, target='fpkm_uq_unstranded', norm='zscore_log2', top_genes=1000)\n",
    "X, x_ids = EP.get_data()"
   ]
  },
  {
   "cell_type": "code",
   "execution_count": null,
   "metadata": {},
   "outputs": [],
   "source": [
    "MP = MutProcessor(mut_train.dropna(), top_genes=250)\n",
    "Y, y_ids = MP.get_data()"
   ]
  },
  {
   "cell_type": "code",
   "execution_count": null,
   "metadata": {},
   "outputs": [],
   "source": [
    "CP = ClinProcessor(clin, targets=['consensus_sex', 'specimenType', 'reportedRace'])\n",
    "\n",
    "xC = CP.get_data(ids=x_ids, id_type='gdc_id')\n",
    "yC = CP.get_data(ids=y_ids, id_type='gdc_id')"
   ]
  },
  {
   "cell_type": "code",
   "execution_count": 229,
   "metadata": {},
   "outputs": [
    {
     "name": "stdout",
     "output_type": "stream",
     "text": [
      "# expr obs: 511\n",
      "# mut obs: 481\n"
     ]
    }
   ],
   "source": [
    "print('# expr obs:', len(x_ids))\n",
    "print('# mut obs:', len(y_ids))"
   ]
  },
  {
   "cell_type": "code",
   "execution_count": 230,
   "metadata": {},
   "outputs": [],
   "source": [
    "def exprEval(x, xhat): \n",
    "\n",
    "    return {'MSE': F.mse_loss(xhat, x.view(-1, x.size(1)), reduction='mean'),\n",
    "            'r': np.mean([np.corrcoef(x[:, i].detach().cpu().numpy(), xhat[:,i].detach().cpu().numpy()) for i in range(xhat.size(1))]),\n",
    "            'r2': r2_score(x.detach().cpu().numpy(), xhat.detach().cpu().numpy(), multioutput='uniform_average')}\n",
    "\n",
    "def mutEval(x, xhat): \n",
    "    xhat = xhat.sigmoid()\n",
    "    #xhat = torch.tensor(xhat).sigmoid().numpy() \n",
    "    return {'MSE': F.mse_loss(xhat, x.view(-1, x.size(1)), reduction='mean'),\n",
    "            'r': np.mean([np.corrcoef(x[:, i].detach().cpu().numpy(), xhat[:,i].detach().cpu().numpy()) for i in range(xhat.size(1))]),\n",
    "            'r2': r2_score(x.detach().cpu().numpy(), xhat.detach().cpu().numpy(), multioutput='uniform_average')}"
   ]
  },
  {
   "cell_type": "code",
   "execution_count": 231,
   "metadata": {},
   "outputs": [
    {
     "name": "stderr",
     "output_type": "stream",
     "text": [
      "/tmp/ipykernel_21062/1111217060.py:1: UserWarning: To copy construct from a tensor, it is recommended to use sourceTensor.clone().detach() or sourceTensor.clone().detach().requires_grad_(True), rather than torch.tensor(sourceTensor).\n",
      "  X = torch.tensor(X, dtype=torch.float32)\n"
     ]
    }
   ],
   "source": [
    "X = torch.tensor(X, dtype=torch.float32)\n",
    "Y = torch.tensor(Y, dtype=torch.float32)\n",
    "xC = torch.tensor(xC, dtype=torch.float32)\n",
    "yC = torch.tensor(yC, dtype=torch.float32)"
   ]
  },
  {
   "cell_type": "code",
   "execution_count": 248,
   "metadata": {},
   "outputs": [],
   "source": [
    "model = cXVAE(input_dim_dict = {'expr': X.size(1), 'mut':Y.size(1)}, \n",
    "              loss_dict = {'expr': torch.nn.MSELoss(), 'mut': torch.nn.BCEWithLogitsLoss()}, \n",
    "              eval_dict={'expr':exprEval, 'mut':mutEval},\n",
    "              cond_dim=xC.size(1),\n",
    "              hidden_dims=[512, 256], \n",
    "              latent_dim=124, \n",
    "              norm='layer', \n",
    "              nonlin='elu') \n",
    "\n",
    "optim = torch.optim.Adam(model.parameters(), lr=1e-3)"
   ]
  },
  {
   "cell_type": "code",
   "execution_count": 249,
   "metadata": {},
   "outputs": [
    {
     "name": "stdout",
     "output_type": "stream",
     "text": [
      "# overlapping ids: 481\n"
     ]
    }
   ],
   "source": [
    "overlapping_ids = list(np.sort(list(set(x_ids.tolist()).intersection(y_ids.tolist())))) \n",
    "print('# overlapping ids:', len(overlapping_ids))\n",
    "y_idxs = np.array([np.where(y_ids == i)[0][0] for i in overlapping_ids])\n",
    "x_idxs = np.array([np.where(x_ids == i)[0][0] for i in overlapping_ids])"
   ]
  },
  {
   "cell_type": "code",
   "execution_count": 258,
   "metadata": {},
   "outputs": [
    {
     "name": "stdout",
     "output_type": "stream",
     "text": [
      "epoch 78 loss: -100.035 || expr loss: 1.624 expr_r2: 0.058 || mut loss: -3.328  mut r2: -1.000 || alignment loss: -0.983\r"
     ]
    },
    {
     "ename": "KeyboardInterrupt",
     "evalue": "",
     "output_type": "error",
     "traceback": [
      "\u001b[0;31m---------------------------------------------------------------------------\u001b[0m",
      "\u001b[0;31mKeyboardInterrupt\u001b[0m                         Traceback (most recent call last)",
      "Cell \u001b[0;32mIn[258], line 16\u001b[0m\n\u001b[1;32m     14\u001b[0m loss3 \u001b[38;5;241m=\u001b[39m \u001b[38;5;241m-\u001b[39m torch\u001b[38;5;241m.\u001b[39mnn\u001b[38;5;241m.\u001b[39mfunctional\u001b[38;5;241m.\u001b[39mcosine_similarity(z1, z2, dim\u001b[38;5;241m=\u001b[39m\u001b[38;5;241m1\u001b[39m)\u001b[38;5;241m.\u001b[39mmean()\n\u001b[1;32m     15\u001b[0m loss \u001b[38;5;241m=\u001b[39m loss1 \u001b[38;5;241m+\u001b[39m loss2 \u001b[38;5;241m+\u001b[39m \u001b[38;5;241m100\u001b[39m\u001b[38;5;241m*\u001b[39mloss3\n\u001b[0;32m---> 16\u001b[0m \u001b[43mloss\u001b[49m\u001b[38;5;241;43m.\u001b[39;49m\u001b[43mbackward\u001b[49m\u001b[43m(\u001b[49m\u001b[43m)\u001b[49m\n\u001b[1;32m     17\u001b[0m optim\u001b[38;5;241m.\u001b[39mstep()\n\u001b[1;32m     19\u001b[0m expr_dict \u001b[38;5;241m=\u001b[39m model\u001b[38;5;241m.\u001b[39meval_(x\u001b[38;5;241m=\u001b[39mX, xhat\u001b[38;5;241m=\u001b[39mout1[\u001b[38;5;124m'\u001b[39m\u001b[38;5;124mxhat\u001b[39m\u001b[38;5;124m'\u001b[39m], key\u001b[38;5;241m=\u001b[39m\u001b[38;5;124m'\u001b[39m\u001b[38;5;124mexpr\u001b[39m\u001b[38;5;124m'\u001b[39m)\n",
      "File \u001b[0;32m~/miniconda3/envs/amlvae/lib/python3.12/site-packages/torch/_tensor.py:581\u001b[0m, in \u001b[0;36mTensor.backward\u001b[0;34m(self, gradient, retain_graph, create_graph, inputs)\u001b[0m\n\u001b[1;32m    571\u001b[0m \u001b[38;5;28;01mif\u001b[39;00m has_torch_function_unary(\u001b[38;5;28mself\u001b[39m):\n\u001b[1;32m    572\u001b[0m     \u001b[38;5;28;01mreturn\u001b[39;00m handle_torch_function(\n\u001b[1;32m    573\u001b[0m         Tensor\u001b[38;5;241m.\u001b[39mbackward,\n\u001b[1;32m    574\u001b[0m         (\u001b[38;5;28mself\u001b[39m,),\n\u001b[0;32m   (...)\u001b[0m\n\u001b[1;32m    579\u001b[0m         inputs\u001b[38;5;241m=\u001b[39minputs,\n\u001b[1;32m    580\u001b[0m     )\n\u001b[0;32m--> 581\u001b[0m \u001b[43mtorch\u001b[49m\u001b[38;5;241;43m.\u001b[39;49m\u001b[43mautograd\u001b[49m\u001b[38;5;241;43m.\u001b[39;49m\u001b[43mbackward\u001b[49m\u001b[43m(\u001b[49m\n\u001b[1;32m    582\u001b[0m \u001b[43m    \u001b[49m\u001b[38;5;28;43mself\u001b[39;49m\u001b[43m,\u001b[49m\u001b[43m \u001b[49m\u001b[43mgradient\u001b[49m\u001b[43m,\u001b[49m\u001b[43m \u001b[49m\u001b[43mretain_graph\u001b[49m\u001b[43m,\u001b[49m\u001b[43m \u001b[49m\u001b[43mcreate_graph\u001b[49m\u001b[43m,\u001b[49m\u001b[43m \u001b[49m\u001b[43minputs\u001b[49m\u001b[38;5;241;43m=\u001b[39;49m\u001b[43minputs\u001b[49m\n\u001b[1;32m    583\u001b[0m \u001b[43m\u001b[49m\u001b[43m)\u001b[49m\n",
      "File \u001b[0;32m~/miniconda3/envs/amlvae/lib/python3.12/site-packages/torch/autograd/__init__.py:347\u001b[0m, in \u001b[0;36mbackward\u001b[0;34m(tensors, grad_tensors, retain_graph, create_graph, grad_variables, inputs)\u001b[0m\n\u001b[1;32m    342\u001b[0m     retain_graph \u001b[38;5;241m=\u001b[39m create_graph\n\u001b[1;32m    344\u001b[0m \u001b[38;5;66;03m# The reason we repeat the same comment below is that\u001b[39;00m\n\u001b[1;32m    345\u001b[0m \u001b[38;5;66;03m# some Python versions print out the first line of a multi-line function\u001b[39;00m\n\u001b[1;32m    346\u001b[0m \u001b[38;5;66;03m# calls in the traceback and some print out the last line\u001b[39;00m\n\u001b[0;32m--> 347\u001b[0m \u001b[43m_engine_run_backward\u001b[49m\u001b[43m(\u001b[49m\n\u001b[1;32m    348\u001b[0m \u001b[43m    \u001b[49m\u001b[43mtensors\u001b[49m\u001b[43m,\u001b[49m\n\u001b[1;32m    349\u001b[0m \u001b[43m    \u001b[49m\u001b[43mgrad_tensors_\u001b[49m\u001b[43m,\u001b[49m\n\u001b[1;32m    350\u001b[0m \u001b[43m    \u001b[49m\u001b[43mretain_graph\u001b[49m\u001b[43m,\u001b[49m\n\u001b[1;32m    351\u001b[0m \u001b[43m    \u001b[49m\u001b[43mcreate_graph\u001b[49m\u001b[43m,\u001b[49m\n\u001b[1;32m    352\u001b[0m \u001b[43m    \u001b[49m\u001b[43minputs\u001b[49m\u001b[43m,\u001b[49m\n\u001b[1;32m    353\u001b[0m \u001b[43m    \u001b[49m\u001b[43mallow_unreachable\u001b[49m\u001b[38;5;241;43m=\u001b[39;49m\u001b[38;5;28;43;01mTrue\u001b[39;49;00m\u001b[43m,\u001b[49m\n\u001b[1;32m    354\u001b[0m \u001b[43m    \u001b[49m\u001b[43maccumulate_grad\u001b[49m\u001b[38;5;241;43m=\u001b[39;49m\u001b[38;5;28;43;01mTrue\u001b[39;49;00m\u001b[43m,\u001b[49m\n\u001b[1;32m    355\u001b[0m \u001b[43m\u001b[49m\u001b[43m)\u001b[49m\n",
      "File \u001b[0;32m~/miniconda3/envs/amlvae/lib/python3.12/site-packages/torch/autograd/graph.py:825\u001b[0m, in \u001b[0;36m_engine_run_backward\u001b[0;34m(t_outputs, *args, **kwargs)\u001b[0m\n\u001b[1;32m    823\u001b[0m     unregister_hooks \u001b[38;5;241m=\u001b[39m _register_logging_hooks_on_whole_graph(t_outputs)\n\u001b[1;32m    824\u001b[0m \u001b[38;5;28;01mtry\u001b[39;00m:\n\u001b[0;32m--> 825\u001b[0m     \u001b[38;5;28;01mreturn\u001b[39;00m \u001b[43mVariable\u001b[49m\u001b[38;5;241;43m.\u001b[39;49m\u001b[43m_execution_engine\u001b[49m\u001b[38;5;241;43m.\u001b[39;49m\u001b[43mrun_backward\u001b[49m\u001b[43m(\u001b[49m\u001b[43m  \u001b[49m\u001b[38;5;66;43;03m# Calls into the C++ engine to run the backward pass\u001b[39;49;00m\n\u001b[1;32m    826\u001b[0m \u001b[43m        \u001b[49m\u001b[43mt_outputs\u001b[49m\u001b[43m,\u001b[49m\u001b[43m \u001b[49m\u001b[38;5;241;43m*\u001b[39;49m\u001b[43margs\u001b[49m\u001b[43m,\u001b[49m\u001b[43m \u001b[49m\u001b[38;5;241;43m*\u001b[39;49m\u001b[38;5;241;43m*\u001b[39;49m\u001b[43mkwargs\u001b[49m\n\u001b[1;32m    827\u001b[0m \u001b[43m    \u001b[49m\u001b[43m)\u001b[49m  \u001b[38;5;66;03m# Calls into the C++ engine to run the backward pass\u001b[39;00m\n\u001b[1;32m    828\u001b[0m \u001b[38;5;28;01mfinally\u001b[39;00m:\n\u001b[1;32m    829\u001b[0m     \u001b[38;5;28;01mif\u001b[39;00m attach_logging_hooks:\n",
      "\u001b[0;31mKeyboardInterrupt\u001b[0m: "
     ]
    }
   ],
   "source": [
    "for epoch in range(100): \n",
    "\n",
    "    model.train()\n",
    "    optim.zero_grad()\n",
    "    out1 = model(X, xC, key='expr')\n",
    "    out2 = model(Y, yC, key='mut')\n",
    "    loss1 = model.loss(x=X, **out1)\n",
    "    loss2 = model.loss(x=Y, **out2)\n",
    "\n",
    "    z1 = out1['mu'][x_idxs]\n",
    "    z2 = out2['mu'][y_idxs]\n",
    "    #loss3 = torch.nn.functional.mse_loss(z1, z2, reduction='mean')\n",
    "    # use cosine similarity instead\n",
    "    loss3 = - torch.nn.functional.cosine_similarity(z1, z2, dim=1).mean()\n",
    "    loss = loss1 + loss2 + 100*loss3\n",
    "    loss.backward()\n",
    "    optim.step()\n",
    "\n",
    "    expr_dict = model.eval_(x=X, xhat=out1['xhat'], key='expr')\n",
    "    #mut_dict = model.eval_(x=Y, xhat=out2['xhat'], key='mut')\n",
    "    mut_dict = {'r2': -1}\n",
    "\n",
    "    print(f'epoch {epoch} loss: {loss.item():.3f} || expr loss: {loss1.item():.3f} expr_r2: {expr_dict['r2']:.3f} || mut loss: {loss2.item():.3f}  mut r2: {mut_dict['r2']:.3f} || alignment loss: {loss3:.3f}', end='\\r')\n"
   ]
  },
  {
   "cell_type": "code",
   "execution_count": 259,
   "metadata": {},
   "outputs": [
    {
     "data": {
      "text/plain": [
       "{'MSE': tensor(0.9401, grad_fn=<MseLossBackward0>),\n",
       " 'r': np.float64(0.6085921462721062),\n",
       " 'r2': 0.05806440860033035}"
      ]
     },
     "execution_count": 259,
     "metadata": {},
     "output_type": "execute_result"
    }
   ],
   "source": [
    "expr_dict"
   ]
  },
  {
   "cell_type": "code",
   "execution_count": 260,
   "metadata": {},
   "outputs": [],
   "source": [
    "z_expr = model.encode(X, xC, key='expr')[0]\n",
    "z_mut = model.encode(Y, yC, key='mut')[0]"
   ]
  },
  {
   "cell_type": "code",
   "execution_count": 261,
   "metadata": {},
   "outputs": [],
   "source": [
    "z = torch.cat([z_expr, z_mut], dim=0).detach().cpu().numpy() "
   ]
  },
  {
   "cell_type": "code",
   "execution_count": 262,
   "metadata": {},
   "outputs": [
    {
     "data": {
      "text/plain": [
       "array([[-0.03009069, -0.00870512,  0.0189812 , ...,  0.00454785,\n",
       "        -0.01008233, -0.06245388],\n",
       "       [-0.02079606, -0.00736396,  0.00669084, ..., -0.01019435,\n",
       "        -0.0004009 , -0.05386567],\n",
       "       [-0.02844086, -0.00715029, -0.00053436, ..., -0.00559382,\n",
       "        -0.00313669, -0.05907249],\n",
       "       ...,\n",
       "       [-0.05291104, -0.01235342,  0.00398814, ...,  0.00438882,\n",
       "         0.00497967, -0.03060792],\n",
       "       [-0.05626234, -0.00188679,  0.00125239, ...,  0.00265612,\n",
       "         0.00840443, -0.03149416],\n",
       "       [-0.05345364, -0.00962076, -0.00115465, ...,  0.00488825,\n",
       "         0.006614  , -0.02968792]], dtype=float32)"
      ]
     },
     "execution_count": 262,
     "metadata": {},
     "output_type": "execute_result"
    }
   ],
   "source": [
    "z"
   ]
  },
  {
   "cell_type": "code",
   "execution_count": 263,
   "metadata": {},
   "outputs": [
    {
     "name": "stderr",
     "output_type": "stream",
     "text": [
      "/home/teddy/miniconda3/envs/amlvae/lib/python3.12/site-packages/sklearn/utils/deprecation.py:151: FutureWarning: 'force_all_finite' was renamed to 'ensure_all_finite' in 1.6 and will be removed in 1.8.\n",
      "  warnings.warn(\n"
     ]
    },
    {
     "data": {
      "text/html": [
       "<div>\n",
       "<style scoped>\n",
       "    .dataframe tbody tr th:only-of-type {\n",
       "        vertical-align: middle;\n",
       "    }\n",
       "\n",
       "    .dataframe tbody tr th {\n",
       "        vertical-align: top;\n",
       "    }\n",
       "\n",
       "    .dataframe thead th {\n",
       "        text-align: right;\n",
       "    }\n",
       "</style>\n",
       "<table border=\"1\" class=\"dataframe\">\n",
       "  <thead>\n",
       "    <tr style=\"text-align: right;\">\n",
       "      <th></th>\n",
       "      <th>umap1</th>\n",
       "      <th>umap2</th>\n",
       "      <th>encoder</th>\n",
       "    </tr>\n",
       "  </thead>\n",
       "  <tbody>\n",
       "    <tr>\n",
       "      <th>0</th>\n",
       "      <td>17.389881</td>\n",
       "      <td>-3.063573</td>\n",
       "      <td>expr</td>\n",
       "    </tr>\n",
       "    <tr>\n",
       "      <th>1</th>\n",
       "      <td>16.264408</td>\n",
       "      <td>-2.765997</td>\n",
       "      <td>expr</td>\n",
       "    </tr>\n",
       "    <tr>\n",
       "      <th>2</th>\n",
       "      <td>18.048300</td>\n",
       "      <td>-3.296339</td>\n",
       "      <td>expr</td>\n",
       "    </tr>\n",
       "    <tr>\n",
       "      <th>3</th>\n",
       "      <td>11.557000</td>\n",
       "      <td>12.713010</td>\n",
       "      <td>expr</td>\n",
       "    </tr>\n",
       "    <tr>\n",
       "      <th>4</th>\n",
       "      <td>12.686559</td>\n",
       "      <td>16.967560</td>\n",
       "      <td>expr</td>\n",
       "    </tr>\n",
       "  </tbody>\n",
       "</table>\n",
       "</div>"
      ],
      "text/plain": [
       "       umap1      umap2 encoder\n",
       "0  17.389881  -3.063573    expr\n",
       "1  16.264408  -2.765997    expr\n",
       "2  18.048300  -3.296339    expr\n",
       "3  11.557000  12.713010    expr\n",
       "4  12.686559  16.967560    expr"
      ]
     },
     "execution_count": 263,
     "metadata": {},
     "output_type": "execute_result"
    }
   ],
   "source": [
    "reducer = umap.UMAP()\n",
    "z_umap = reducer.fit_transform(z)\n",
    "\n",
    "ures = pd.DataFrame(z_umap, columns=['umap1', 'umap2']).assign(encoder=['expr']*len(z_expr) + ['mut']*len(z_mut))\n",
    "ures.head()"
   ]
  },
  {
   "cell_type": "code",
   "execution_count": 264,
   "metadata": {},
   "outputs": [
    {
     "data": {
      "image/png": "[encoded data removed]",
      "text/plain": [
       "<Figure size 640x480 with 1 Axes>"
      ]
     },
     "metadata": {},
     "output_type": "display_data"
    }
   ],
   "source": [
    "plt.figure() \n",
    "sbn.scatterplot(data=ures, x='umap1', y='umap2', hue='encoder', alpha=0.75)\n",
    "plt.show()"
   ]
  },
  {
   "cell_type": "code",
   "execution_count": null,
   "metadata": {},
   "outputs": [],
   "source": []
  }
 ],
 "metadata": {
  "kernelspec": {
   "display_name": "amlvae",
   "language": "python",
   "name": "python3"
  },
  "language_info": {
   "codemirror_mode": {
    "name": "ipython",
    "version": 3
   },
   "file_extension": ".py",
   "mimetype": "text/x-python",
   "name": "python",
   "nbconvert_exporter": "python",
   "pygments_lexer": "ipython3",
   "version": "3.12.8"
  }
 },
 "nbformat": 4,
 "nbformat_minor": 2
}
