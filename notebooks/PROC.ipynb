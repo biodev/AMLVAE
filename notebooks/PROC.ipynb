{
 "cells": [
  {
   "cell_type": "code",
   "execution_count": 1,
   "metadata": {},
   "outputs": [],
   "source": [
    "import pandas as pd \n",
    "import numpy as np \n",
    "from amlvae.data.ExprProcessor import ExprProcessor\n",
    "from amlvae.data.ClinProcessor import ClinProcessor\n",
    "from matplotlib import pyplot as plt\n",
    "import torch \n",
    "import os \n",
    "\n",
    "# auto reimport \n",
    "%load_ext autoreload\n",
    "%autoreload 2"
   ]
  },
  {
   "cell_type": "code",
   "execution_count": 2,
   "metadata": {},
   "outputs": [],
   "source": [
    "expr_long1 = pd.read_csv('../../data/aml_train.csv')\n",
    "expr_long2 = pd.read_csv('../../data/aml_validation.csv')\n",
    "expr_long3 = pd.read_csv('../../data/aml_test.csv')"
   ]
  },
  {
   "cell_type": "code",
   "execution_count": 3,
   "metadata": {},
   "outputs": [],
   "source": [
    "eproc = ExprProcessor(expr_long1, target='tpm_unstranded') # options: 'unstranded','stranded_first','stranded_second','tpm_unstranded','fpkm_unstranded','fpkm_uq_unstranded'\n",
    "eproc.select_genes_('variance', top_n=5000) # options: 'tcga', 'variance' \n",
    "eproc.normalize_('zscore') # options: 'minmax', 'zscore'"
   ]
  },
  {
   "cell_type": "code",
   "execution_count": 4,
   "metadata": {},
   "outputs": [
    {
     "name": "stdout",
     "output_type": "stream",
     "text": [
      "min value: tensor(-11.8888)\n",
      "max value: tensor(16.8045)\n",
      "mean value: tensor(1.5289e-09)\n",
      "std value: tensor(0.9990)\n"
     ]
    }
   ],
   "source": [
    "X_train, train_ids = eproc.get_data()\n",
    "X_train = torch.tensor(X_train, dtype=torch.float32)\n",
    "\n",
    "assert X_train.shape[0] == len(train_ids), 'X_train and train_ids do not match in length'\n",
    "assert not torch.isnan(X_train).any(), 'X_train contains NaN values'\n",
    "assert not torch.isinf(X_train).any(), 'X_train contains Inf values'\n",
    "\n",
    "print('min value:', X_train.min())\n",
    "print('max value:', X_train.max())\n",
    "print('mean value:', X_train.mean())\n",
    "print('std value:', X_train.std())"
   ]
  },
  {
   "cell_type": "code",
   "execution_count": 5,
   "metadata": {},
   "outputs": [
    {
     "name": "stdout",
     "output_type": "stream",
     "text": [
      "min value: tensor(-9.8833)\n",
      "max value: tensor(17.4198)\n",
      "mean value: tensor(-0.2803)\n",
      "std value: tensor(1.2015)\n"
     ]
    }
   ],
   "source": [
    "X_val, val_ids = eproc.process_new(expr_long2)\n",
    "X_val = torch.tensor(X_val, dtype=torch.float32)\n",
    "\n",
    "assert X_val.shape[0] == len(val_ids), 'X_val and val_ids do not match in length'\n",
    "assert not torch.isnan(X_val).any(), 'X_val contains NaN values'\n",
    "assert not torch.isinf(X_val).any(), 'X_val contains Inf values'\n",
    "print('min value:', X_val.min())\n",
    "print('max value:', X_val.max())\n",
    "print('mean value:', X_val.mean())\n",
    "print('std value:', X_val.std())"
   ]
  },
  {
   "cell_type": "code",
   "execution_count": 6,
   "metadata": {},
   "outputs": [
    {
     "name": "stdout",
     "output_type": "stream",
     "text": [
      "min value: tensor(-5.6350)\n",
      "max value: tensor(10.9079)\n",
      "mean value: tensor(-0.0441)\n",
      "std value: tensor(1.0665)\n"
     ]
    }
   ],
   "source": [
    "X_test, test_ids = eproc.process_new(expr_long3)\n",
    "X_test = torch.tensor(X_test, dtype=torch.float32)\n",
    "\n",
    "assert X_test.shape[0] == len(test_ids), 'X_test and test_ids do not match in length'\n",
    "assert not torch.isnan(X_test).any(), 'X_test contains NaN values'\n",
    "assert not torch.isinf(X_test).any(), 'X_test contains Inf values'\n",
    "print('min value:', X_test.min())\n",
    "print('max value:', X_test.max())\n",
    "print('mean value:', X_test.mean())\n",
    "print('std value:', X_test.std())"
   ]
  },
  {
   "cell_type": "code",
   "execution_count": 7,
   "metadata": {},
   "outputs": [
    {
     "name": "stdout",
     "output_type": "stream",
     "text": [
      "torch.Size([511, 5000])\n",
      "torch.Size([151, 5000])\n",
      "torch.Size([55, 5000])\n"
     ]
    }
   ],
   "source": [
    "print(X_train.shape)\n",
    "print(X_val.shape)\n",
    "print(X_test.shape)"
   ]
  },
  {
   "cell_type": "code",
   "execution_count": 8,
   "metadata": {},
   "outputs": [
    {
     "data": {
      "text/html": [
       "<div>\n",
       "<style scoped>\n",
       "    .dataframe tbody tr th:only-of-type {\n",
       "        vertical-align: middle;\n",
       "    }\n",
       "\n",
       "    .dataframe tbody tr th {\n",
       "        vertical-align: top;\n",
       "    }\n",
       "\n",
       "    .dataframe thead th {\n",
       "        text-align: right;\n",
       "    }\n",
       "</style>\n",
       "<table border=\"1\" class=\"dataframe\">\n",
       "  <thead>\n",
       "    <tr style=\"text-align: right;\">\n",
       "      <th></th>\n",
       "      <th>S100A9</th>\n",
       "      <th>MT-CO2</th>\n",
       "      <th>LYZ</th>\n",
       "      <th>MT-ND4</th>\n",
       "      <th>MT-CO3</th>\n",
       "      <th>MPO</th>\n",
       "      <th>MT-CO1</th>\n",
       "      <th>SRGN</th>\n",
       "      <th>HBB</th>\n",
       "      <th>MT-ND1</th>\n",
       "      <th>...</th>\n",
       "      <th>PANX2</th>\n",
       "      <th>AGPAT3</th>\n",
       "      <th>ZNF331</th>\n",
       "      <th>CDK11B</th>\n",
       "      <th>TBC1D14</th>\n",
       "      <th>E2F3</th>\n",
       "      <th>COX6C</th>\n",
       "      <th>KRT1</th>\n",
       "      <th>PAM</th>\n",
       "      <th>LINC02604</th>\n",
       "    </tr>\n",
       "  </thead>\n",
       "  <tbody>\n",
       "    <tr>\n",
       "      <th>001454b2-aff9-4659-85a6-73fb8092589a</th>\n",
       "      <td>-0.652122</td>\n",
       "      <td>-0.519680</td>\n",
       "      <td>0.046059</td>\n",
       "      <td>0.274374</td>\n",
       "      <td>0.211972</td>\n",
       "      <td>0.125731</td>\n",
       "      <td>0.628990</td>\n",
       "      <td>-1.499215</td>\n",
       "      <td>-0.684449</td>\n",
       "      <td>-1.299649</td>\n",
       "      <td>...</td>\n",
       "      <td>-0.355553</td>\n",
       "      <td>1.248538</td>\n",
       "      <td>0.354875</td>\n",
       "      <td>-0.141903</td>\n",
       "      <td>1.289538</td>\n",
       "      <td>-0.448482</td>\n",
       "      <td>-0.152845</td>\n",
       "      <td>-0.292104</td>\n",
       "      <td>0.495891</td>\n",
       "      <td>1.081057</td>\n",
       "    </tr>\n",
       "    <tr>\n",
       "      <th>002cacd9-c03b-4526-a380-0701f41c4a9e</th>\n",
       "      <td>-2.163392</td>\n",
       "      <td>0.058464</td>\n",
       "      <td>-2.791249</td>\n",
       "      <td>0.044888</td>\n",
       "      <td>1.019568</td>\n",
       "      <td>-0.248765</td>\n",
       "      <td>1.458651</td>\n",
       "      <td>-2.953973</td>\n",
       "      <td>0.830195</td>\n",
       "      <td>0.014082</td>\n",
       "      <td>...</td>\n",
       "      <td>0.967753</td>\n",
       "      <td>0.604003</td>\n",
       "      <td>0.666343</td>\n",
       "      <td>-1.224230</td>\n",
       "      <td>-0.243900</td>\n",
       "      <td>-1.937637</td>\n",
       "      <td>0.515020</td>\n",
       "      <td>-0.048977</td>\n",
       "      <td>0.854153</td>\n",
       "      <td>1.226441</td>\n",
       "    </tr>\n",
       "    <tr>\n",
       "      <th>006e5777-2603-4db7-a1d6-8c8085c5e3e5</th>\n",
       "      <td>0.047106</td>\n",
       "      <td>-2.044368</td>\n",
       "      <td>0.424308</td>\n",
       "      <td>-1.311193</td>\n",
       "      <td>-1.244360</td>\n",
       "      <td>0.548423</td>\n",
       "      <td>-0.632209</td>\n",
       "      <td>0.137187</td>\n",
       "      <td>0.183577</td>\n",
       "      <td>-1.884045</td>\n",
       "      <td>...</td>\n",
       "      <td>0.601502</td>\n",
       "      <td>0.525237</td>\n",
       "      <td>0.001848</td>\n",
       "      <td>-0.197807</td>\n",
       "      <td>1.480494</td>\n",
       "      <td>0.918404</td>\n",
       "      <td>-0.077817</td>\n",
       "      <td>-0.341272</td>\n",
       "      <td>1.098997</td>\n",
       "      <td>1.517063</td>\n",
       "    </tr>\n",
       "    <tr>\n",
       "      <th>00870f33-cab3-4c23-bd0d-8903a5a9789e</th>\n",
       "      <td>0.841024</td>\n",
       "      <td>-0.328335</td>\n",
       "      <td>-0.066645</td>\n",
       "      <td>-0.536656</td>\n",
       "      <td>0.433866</td>\n",
       "      <td>-0.604071</td>\n",
       "      <td>-0.425134</td>\n",
       "      <td>0.571021</td>\n",
       "      <td>0.475116</td>\n",
       "      <td>0.485768</td>\n",
       "      <td>...</td>\n",
       "      <td>2.221498</td>\n",
       "      <td>-0.515301</td>\n",
       "      <td>1.342852</td>\n",
       "      <td>0.562208</td>\n",
       "      <td>-1.651345</td>\n",
       "      <td>0.345054</td>\n",
       "      <td>-0.544466</td>\n",
       "      <td>-0.590070</td>\n",
       "      <td>-1.123660</td>\n",
       "      <td>0.274410</td>\n",
       "    </tr>\n",
       "    <tr>\n",
       "      <th>00b535f6-064a-4dcf-ab14-387a54eedeee</th>\n",
       "      <td>0.688142</td>\n",
       "      <td>-0.855246</td>\n",
       "      <td>0.751074</td>\n",
       "      <td>-1.789957</td>\n",
       "      <td>-0.428534</td>\n",
       "      <td>-0.209685</td>\n",
       "      <td>-1.011842</td>\n",
       "      <td>1.193910</td>\n",
       "      <td>0.350485</td>\n",
       "      <td>-0.976110</td>\n",
       "      <td>...</td>\n",
       "      <td>0.102146</td>\n",
       "      <td>1.449877</td>\n",
       "      <td>-0.861223</td>\n",
       "      <td>0.470082</td>\n",
       "      <td>-1.445936</td>\n",
       "      <td>-1.334725</td>\n",
       "      <td>2.229457</td>\n",
       "      <td>-0.256749</td>\n",
       "      <td>-0.489086</td>\n",
       "      <td>0.624312</td>\n",
       "    </tr>\n",
       "  </tbody>\n",
       "</table>\n",
       "<p>5 rows × 5000 columns</p>\n",
       "</div>"
      ],
      "text/plain": [
       "                                        S100A9    MT-CO2       LYZ    MT-ND4  \\\n",
       "001454b2-aff9-4659-85a6-73fb8092589a -0.652122 -0.519680  0.046059  0.274374   \n",
       "002cacd9-c03b-4526-a380-0701f41c4a9e -2.163392  0.058464 -2.791249  0.044888   \n",
       "006e5777-2603-4db7-a1d6-8c8085c5e3e5  0.047106 -2.044368  0.424308 -1.311193   \n",
       "00870f33-cab3-4c23-bd0d-8903a5a9789e  0.841024 -0.328335 -0.066645 -0.536656   \n",
       "00b535f6-064a-4dcf-ab14-387a54eedeee  0.688142 -0.855246  0.751074 -1.789957   \n",
       "\n",
       "                                        MT-CO3       MPO    MT-CO1      SRGN  \\\n",
       "001454b2-aff9-4659-85a6-73fb8092589a  0.211972  0.125731  0.628990 -1.499215   \n",
       "002cacd9-c03b-4526-a380-0701f41c4a9e  1.019568 -0.248765  1.458651 -2.953973   \n",
       "006e5777-2603-4db7-a1d6-8c8085c5e3e5 -1.244360  0.548423 -0.632209  0.137187   \n",
       "00870f33-cab3-4c23-bd0d-8903a5a9789e  0.433866 -0.604071 -0.425134  0.571021   \n",
       "00b535f6-064a-4dcf-ab14-387a54eedeee -0.428534 -0.209685 -1.011842  1.193910   \n",
       "\n",
       "                                           HBB    MT-ND1  ...     PANX2  \\\n",
       "001454b2-aff9-4659-85a6-73fb8092589a -0.684449 -1.299649  ... -0.355553   \n",
       "002cacd9-c03b-4526-a380-0701f41c4a9e  0.830195  0.014082  ...  0.967753   \n",
       "006e5777-2603-4db7-a1d6-8c8085c5e3e5  0.183577 -1.884045  ...  0.601502   \n",
       "00870f33-cab3-4c23-bd0d-8903a5a9789e  0.475116  0.485768  ...  2.221498   \n",
       "00b535f6-064a-4dcf-ab14-387a54eedeee  0.350485 -0.976110  ...  0.102146   \n",
       "\n",
       "                                        AGPAT3    ZNF331    CDK11B   TBC1D14  \\\n",
       "001454b2-aff9-4659-85a6-73fb8092589a  1.248538  0.354875 -0.141903  1.289538   \n",
       "002cacd9-c03b-4526-a380-0701f41c4a9e  0.604003  0.666343 -1.224230 -0.243900   \n",
       "006e5777-2603-4db7-a1d6-8c8085c5e3e5  0.525237  0.001848 -0.197807  1.480494   \n",
       "00870f33-cab3-4c23-bd0d-8903a5a9789e -0.515301  1.342852  0.562208 -1.651345   \n",
       "00b535f6-064a-4dcf-ab14-387a54eedeee  1.449877 -0.861223  0.470082 -1.445936   \n",
       "\n",
       "                                          E2F3     COX6C      KRT1       PAM  \\\n",
       "001454b2-aff9-4659-85a6-73fb8092589a -0.448482 -0.152845 -0.292104  0.495891   \n",
       "002cacd9-c03b-4526-a380-0701f41c4a9e -1.937637  0.515020 -0.048977  0.854153   \n",
       "006e5777-2603-4db7-a1d6-8c8085c5e3e5  0.918404 -0.077817 -0.341272  1.098997   \n",
       "00870f33-cab3-4c23-bd0d-8903a5a9789e  0.345054 -0.544466 -0.590070 -1.123660   \n",
       "00b535f6-064a-4dcf-ab14-387a54eedeee -1.334725  2.229457 -0.256749 -0.489086   \n",
       "\n",
       "                                      LINC02604  \n",
       "001454b2-aff9-4659-85a6-73fb8092589a   1.081057  \n",
       "002cacd9-c03b-4526-a380-0701f41c4a9e   1.226441  \n",
       "006e5777-2603-4db7-a1d6-8c8085c5e3e5   1.517063  \n",
       "00870f33-cab3-4c23-bd0d-8903a5a9789e   0.274410  \n",
       "00b535f6-064a-4dcf-ab14-387a54eedeee   0.624312  \n",
       "\n",
       "[5 rows x 5000 columns]"
      ]
     },
     "execution_count": 8,
     "metadata": {},
     "output_type": "execute_result"
    }
   ],
   "source": [
    "X = torch.cat([X_train, X_val, X_test], dim=0).detach().numpy()\n",
    "ids = np.concatenate([train_ids, val_ids, test_ids], axis=0)\n",
    "\n",
    "df = pd.DataFrame(X, index=ids, columns = eproc.selected_genes)\n",
    "df.head()\n"
   ]
  },
  {
   "cell_type": "code",
   "execution_count": 9,
   "metadata": {},
   "outputs": [],
   "source": [
    "os.makedirs('../data/', exist_ok=True)\n",
    "df.to_csv('../data/aml_expr.csv')\n",
    "torch.save({'train_ids': train_ids, 'val_ids': val_ids, 'test_ids': test_ids}, '../data/aml_partitions.pt')"
   ]
  },
  {
   "cell_type": "code",
   "execution_count": null,
   "metadata": {},
   "outputs": [],
   "source": []
  },
  {
   "cell_type": "code",
   "execution_count": null,
   "metadata": {},
   "outputs": [],
   "source": []
  }
 ],
 "metadata": {
  "kernelspec": {
   "display_name": "amlvae",
   "language": "python",
   "name": "python3"
  },
  "language_info": {
   "codemirror_mode": {
    "name": "ipython",
    "version": 3
   },
   "file_extension": ".py",
   "mimetype": "text/x-python",
   "name": "python",
   "nbconvert_exporter": "python",
   "pygments_lexer": "ipython3",
   "version": "3.12.10"
  }
 },
 "nbformat": 4,
 "nbformat_minor": 2
}
