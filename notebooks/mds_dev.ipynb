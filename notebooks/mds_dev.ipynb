{
 "cells": [
  {
   "cell_type": "code",
   "execution_count": 1,
   "id": "d011a432",
   "metadata": {},
   "outputs": [],
   "source": [
    "import pandas as pd \n",
    "import numpy as np \n",
    "from amlvae.data.ExprProcessor import ExprProcessor\n",
    "from amlvae.data.ClinProcessor import ClinProcessor\n",
    "from matplotlib import pyplot as plt\n",
    "import torch \n",
    "import os \n",
    "\n",
    "# auto reimport \n",
    "%load_ext autoreload\n",
    "%autoreload 2"
   ]
  },
  {
   "cell_type": "code",
   "execution_count": 12,
   "id": "74c8a6c4",
   "metadata": {},
   "outputs": [
    {
     "data": {
      "text/html": [
       "<div>\n",
       "<style scoped>\n",
       "    .dataframe tbody tr th:only-of-type {\n",
       "        vertical-align: middle;\n",
       "    }\n",
       "\n",
       "    .dataframe tbody tr th {\n",
       "        vertical-align: top;\n",
       "    }\n",
       "\n",
       "    .dataframe thead th {\n",
       "        text-align: right;\n",
       "    }\n",
       "</style>\n",
       "<table border=\"1\" class=\"dataframe\">\n",
       "  <thead>\n",
       "    <tr style=\"text-align: right;\">\n",
       "      <th></th>\n",
       "      <th>array_id</th>\n",
       "      <th>gene_id</th>\n",
       "      <th>counts</th>\n",
       "      <th>FPKM</th>\n",
       "    </tr>\n",
       "  </thead>\n",
       "  <tbody>\n",
       "    <tr>\n",
       "      <th>0</th>\n",
       "      <td>MLL_00003</td>\n",
       "      <td>DDX11L1</td>\n",
       "      <td>2</td>\n",
       "      <td>0.061998</td>\n",
       "    </tr>\n",
       "    <tr>\n",
       "      <th>1</th>\n",
       "      <td>MLL_00003</td>\n",
       "      <td>WASH7P</td>\n",
       "      <td>149</td>\n",
       "      <td>2.672530</td>\n",
       "    </tr>\n",
       "    <tr>\n",
       "      <th>2</th>\n",
       "      <td>MLL_00003</td>\n",
       "      <td>MIR6859-3</td>\n",
       "      <td>0</td>\n",
       "      <td>NaN</td>\n",
       "    </tr>\n",
       "    <tr>\n",
       "      <th>3</th>\n",
       "      <td>MLL_00003</td>\n",
       "      <td>MIR6859-2</td>\n",
       "      <td>0</td>\n",
       "      <td>0.000000</td>\n",
       "    </tr>\n",
       "    <tr>\n",
       "      <th>4</th>\n",
       "      <td>MLL_00003</td>\n",
       "      <td>MIR6859-4</td>\n",
       "      <td>0</td>\n",
       "      <td>0.000000</td>\n",
       "    </tr>\n",
       "  </tbody>\n",
       "</table>\n",
       "</div>"
      ],
      "text/plain": [
       "    array_id    gene_id  counts      FPKM\n",
       "0  MLL_00003    DDX11L1       2  0.061998\n",
       "1  MLL_00003     WASH7P     149  2.672530\n",
       "2  MLL_00003  MIR6859-3       0       NaN\n",
       "3  MLL_00003  MIR6859-2       0  0.000000\n",
       "4  MLL_00003  MIR6859-4       0  0.000000"
      ]
     },
     "execution_count": 12,
     "metadata": {},
     "output_type": "execute_result"
    }
   ],
   "source": [
    "mds_long = pd.read_csv('./mds_head.csv', sep='\\t')\n",
    "mds_long.head()"
   ]
  },
  {
   "cell_type": "code",
   "execution_count": null,
   "id": "0931ef67",
   "metadata": {},
   "outputs": [],
   "source": [
    "mds_long = pd.read_csv('./mds_head.csv', sep='\\t')\n",
    "eproc = ExprProcessor(mds_long, target='FPKM', gene_col='gene_id', sample_id_col='array_id') # options: 'unstranded','stranded_first','stranded_second','tpm_unstranded','fpkm_unstranded','fpkm_uq_unstranded'\n",
    "eproc.select_genes_('variance', top_n=2) # options: 'tcga', 'variance' \n",
    "eproc.normalize_('zscore') # options: 'minmax', 'zscore'\n",
    "X_train, train_ids = eproc.get_data()"
   ]
  },
  {
   "cell_type": "code",
   "execution_count": 19,
   "id": "2bf4780e",
   "metadata": {},
   "outputs": [
    {
     "data": {
      "text/plain": [
       "array([[nan, nan]])"
      ]
     },
     "execution_count": 19,
     "metadata": {},
     "output_type": "execute_result"
    }
   ],
   "source": [
    "X_train"
   ]
  },
  {
   "cell_type": "code",
   "execution_count": 21,
   "id": "9e0ee16f",
   "metadata": {},
   "outputs": [
    {
     "data": {
      "text/plain": [
       "['MLL_00003']"
      ]
     },
     "execution_count": 21,
     "metadata": {},
     "output_type": "execute_result"
    }
   ],
   "source": [
    "train_ids"
   ]
  },
  {
   "cell_type": "code",
   "execution_count": null,
   "id": "e95862bb",
   "metadata": {},
   "outputs": [],
   "source": []
  }
 ],
 "metadata": {
  "kernelspec": {
   "display_name": "amlvae",
   "language": "python",
   "name": "python3"
  },
  "language_info": {
   "codemirror_mode": {
    "name": "ipython",
    "version": 3
   },
   "file_extension": ".py",
   "mimetype": "text/x-python",
   "name": "python",
   "nbconvert_exporter": "python",
   "pygments_lexer": "ipython3",
   "version": "3.12.10"
  }
 },
 "nbformat": 4,
 "nbformat_minor": 5
}
