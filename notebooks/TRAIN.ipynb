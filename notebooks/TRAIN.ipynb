{
 "cells": [
  {
   "cell_type": "code",
   "execution_count": 1,
   "id": "bae39ea6",
   "metadata": {},
   "outputs": [],
   "source": [
    "import numpy as np\n",
    "import torch\n",
    "import torch.optim as optim\n",
    "import torch.nn as nn\n",
    "from torch.utils.data import DataLoader\n",
    "import torch.nn.functional as F\n",
    "\n",
    "from ray import tune\n",
    "from ray.tune.schedulers import ASHAScheduler\n",
    "\n",
    "from amlvae.models.VAE import VAE\n",
    "from sklearn.metrics import r2_score \n",
    "from matplotlib import pyplot as plt\n",
    "\n",
    "import os\n",
    "import tempfile\n",
    "\n",
    "from ray.tune import Checkpoint\n",
    "import pandas as pd \n",
    "\n",
    "from scipy.stats import spearmanr\n",
    "import seaborn as sbn\n",
    "\n",
    "from hyperopt import hp\n",
    "from ray.tune.search.hyperopt import HyperOptSearch\n",
    "\n",
    "import umap \n",
    "import math\n",
    "\n",
    "from sklearn.decomposition import PCA\n",
    "\n",
    "from amlvae.train.Trainer import Trainer"
   ]
  },
  {
   "cell_type": "code",
   "execution_count": 10,
   "id": "250ccb55",
   "metadata": {},
   "outputs": [],
   "source": [
    "trainer = Trainer(\n",
    "    root='/home/teddy/local/AMLVAE/data/',\n",
    "    checkpoint=False,\n",
    "    epochs=1000,\n",
    "    verbose=True, \n",
    "    patience=100\n",
    ")"
   ]
  },
  {
   "cell_type": "code",
   "execution_count": 39,
   "id": "858794d1",
   "metadata": {},
   "outputs": [
    {
     "name": "stdout",
     "output_type": "stream",
     "text": [
      "epoch: 304, val mse: 3339.3298, val r2: 0.22, kld: 58.06, beta: 1.00E+00\r"
     ]
    }
   ],
   "source": [
    "config = {\n",
    "        'n_hidden'   : 2048,\n",
    "        'n_layers'   : 2,\n",
    "        'n_latent'   : 16,\n",
    "        'norm'       : 'none',\n",
    "        'variational': True,\n",
    "        'anneal'     : False,\n",
    "        'aggresive_updates': False,\n",
    "        'dropout'    : 0.2,\n",
    "        'nonlin'     : 'elu',\n",
    "        'lr'         : 1e-4,\n",
    "        'alpha'      : 0.1,\n",
    "        'l2'         : 0,\n",
    "        'beta'       : 1.0,\n",
    "        'batch_size' : 256, \n",
    "    }\n",
    "\n",
    "model = trainer(config)"
   ]
  },
  {
   "cell_type": "code",
   "execution_count": 40,
   "id": "81ac1de9",
   "metadata": {},
   "outputs": [],
   "source": [
    "torch.save(model, '../output/var_preproc5000_TPM_5-1-25/vae.pt')"
   ]
  },
  {
   "cell_type": "code",
   "execution_count": 41,
   "id": "089ba825",
   "metadata": {},
   "outputs": [
    {
     "name": "stdout",
     "output_type": "stream",
     "text": [
      "Train R2: 0.7601\n",
      "Validation R2: 0.2351\n",
      "Test R2: 0.6238\n",
      "\n",
      "Train MSE: 0.2394\n",
      "Validation MSE: 0.6533\n",
      "Test MSE: 0.3865\n"
     ]
    }
   ],
   "source": [
    "with torch.no_grad(): xhat = model.predict(trainer.X_test.to('cuda')).cpu()\n",
    "r2_test = r2_score(trainer.X_test.cpu().numpy(), xhat.cpu().numpy(), multioutput='variance_weighted')\n",
    "mse_test = F.mse_loss(trainer.X_test, xhat).item()\n",
    "\n",
    "with torch.no_grad(): xhat = model.predict(trainer.X_train.to('cuda')).cpu()\n",
    "r2_train = r2_score(trainer.X_train.cpu().numpy(), xhat.cpu().numpy(), multioutput='variance_weighted')\n",
    "mse_train = F.mse_loss(trainer.X_train, xhat).item()\n",
    "\n",
    "with torch.no_grad(): xhat = model.predict(trainer.X_val.to('cuda')).cpu()\n",
    "r2_val = r2_score(trainer.X_val.cpu().numpy(), xhat.cpu().numpy(), multioutput='variance_weighted')\n",
    "mse_val = F.mse_loss(trainer.X_val, xhat).item()\n",
    "\n",
    "print(f'Train R2: {r2_train:.4f}')\n",
    "print(f'Validation R2: {r2_val:.4f}')\n",
    "print(f'Test R2: {r2_test:.4f}')\n",
    "print() \n",
    "print(f'Train MSE: {mse_train:.4f}')\n",
    "print(f'Validation MSE: {mse_val:.4f}')\n",
    "print(f'Test MSE: {mse_test:.4f}')"
   ]
  },
  {
   "cell_type": "code",
   "execution_count": 42,
   "id": "1f7a88b9",
   "metadata": {},
   "outputs": [],
   "source": [
    "z_test = model.encode(trainer.X_test.to('cuda'))[0].cpu()"
   ]
  },
  {
   "cell_type": "code",
   "execution_count": 43,
   "id": "90e9b7de",
   "metadata": {},
   "outputs": [
    {
     "data": {
      "text/plain": [
       "(array([1., 2., 1., 2., 1., 2., 2., 2., 0., 3.]),\n",
       " array([-0.98132163, -0.8354497 , -0.68957782, -0.54370594, -0.397834  ,\n",
       "        -0.25196213, -0.10609019,  0.03978175,  0.18565363,  0.3315255 ,\n",
       "         0.47739744]),\n",
       " <BarContainer object of 10 artists>)"
      ]
     },
     "execution_count": 43,
     "metadata": {},
     "output_type": "execute_result"
    },
    {
     "data": {
      "image/png": "[encoded data removed]",
      "text/plain": [
       "<Figure size 640x480 with 1 Axes>"
      ]
     },
     "metadata": {},
     "output_type": "display_data"
    }
   ],
   "source": [
    "plt.hist(z_test.mean(0).cpu().detach().numpy())"
   ]
  },
  {
   "cell_type": "code",
   "execution_count": 44,
   "id": "f10c6cec",
   "metadata": {},
   "outputs": [
    {
     "data": {
      "text/plain": [
       "(array([2., 0., 1., 2., 2., 3., 2., 2., 1., 1.]),\n",
       " array([0.97805744, 1.01755726, 1.05705702, 1.09655678, 1.13605654,\n",
       "        1.1755563 , 1.21505618, 1.25455594, 1.2940557 , 1.33355546,\n",
       "        1.37305522]),\n",
       " <BarContainer object of 10 artists>)"
      ]
     },
     "execution_count": 44,
     "metadata": {},
     "output_type": "execute_result"
    },
    {
     "data": {
      "image/png": "[encoded data removed]",
      "text/plain": [
       "<Figure size 640x480 with 1 Axes>"
      ]
     },
     "metadata": {},
     "output_type": "display_data"
    }
   ],
   "source": [
    "plt.hist(z_test.std(0).cpu().detach().numpy())"
   ]
  },
  {
   "cell_type": "code",
   "execution_count": 45,
   "id": "c9c172f5",
   "metadata": {},
   "outputs": [
    {
     "name": "stdout",
     "output_type": "stream",
     "text": [
      "PCA Train R2: 0.6662\n",
      "PCA Validation R2: 0.2316\n",
      "PCA Test R2: 0.6062\n",
      "\n",
      "PCA MSE: 0.3331\n",
      "PCA Validation MSE: 0.6563\n",
      "PCA Test MSE: 0.4045\n"
     ]
    }
   ],
   "source": [
    "pca = PCA(n_components=config['n_latent'])\n",
    "pc = pca.fit_transform(trainer.X_train.cpu().numpy())\n",
    "xhat = pca.inverse_transform(pc) \n",
    "\n",
    "mse_train = (\n",
    "    (xhat - trainer.X_train.cpu().numpy())**2\n",
    ").mean(axis=1)\n",
    "r2_train = r2_score(trainer.X_train.cpu().numpy(), xhat, multioutput='variance_weighted')\n",
    "\n",
    "xhat = pca.inverse_transform(pca.transform(trainer.X_test.cpu().numpy()))\n",
    "mse_test = (\n",
    "    (xhat - trainer.X_test.cpu().numpy())**2\n",
    ").mean(axis=1)\n",
    "r2_test = r2_score(trainer.X_test.cpu().numpy(), xhat, multioutput='variance_weighted')\n",
    "\n",
    "xhat = pca.inverse_transform(pca.transform(trainer.X_val.cpu().numpy()))\n",
    "mse_val = (\n",
    "    (xhat - trainer.X_val.cpu().numpy())**2\n",
    ").mean(axis=1)\n",
    "r2_val = r2_score(trainer.X_val.cpu().numpy(), xhat, multioutput='variance_weighted')\n",
    "\n",
    "print(f'PCA Train R2: {r2_train:.4f}')\n",
    "print(f'PCA Validation R2: {r2_val:.4f}')\n",
    "print(f'PCA Test R2: {r2_test:.4f}')\n",
    "print()\n",
    "\n",
    "print(f'PCA MSE: {mse_train.mean():.4f}')\n",
    "print(f'PCA Validation MSE: {mse_val.mean():.4f}')\n",
    "print(f'PCA Test MSE: {mse_test.mean():.4f}')"
   ]
  },
  {
   "cell_type": "code",
   "execution_count": 38,
   "id": "35cb8790",
   "metadata": {},
   "outputs": [
    {
     "data": {
      "text/plain": [
       "array([ 3.8258949e-07, -9.7047092e-08,  6.1587578e-08,  5.5393826e-07,\n",
       "        2.3795200e-08, -4.3577876e-07,  2.7247839e-07, -8.2116770e-08,\n",
       "        1.4183806e-07,  6.1587578e-08, -2.2582113e-07, -1.2877403e-07,\n",
       "        4.9456690e-07, -1.9782676e-07,  2.5404876e-07,  1.8289644e-07],\n",
       "      dtype=float32)"
      ]
     },
     "execution_count": 38,
     "metadata": {},
     "output_type": "execute_result"
    }
   ],
   "source": [
    "pc.mean(0)"
   ]
  },
  {
   "cell_type": "code",
   "execution_count": 164,
   "id": "3cb914f5",
   "metadata": {},
   "outputs": [
    {
     "data": {
      "text/plain": [
       "array([27.855375 , 25.804913 , 19.985455 , 15.826287 , 13.709327 ,\n",
       "       13.58529  , 11.827773 , 10.79464  , 10.172817 ,  9.767872 ,\n",
       "        9.117149 ,  8.803549 ,  8.466574 ,  7.9325585,  7.647057 ,\n",
       "        7.1606717,  6.917975 ,  6.7273636,  6.5059843,  6.1951504,\n",
       "        6.120706 ,  5.886353 ,  5.7880135,  5.3973475,  5.3581805,\n",
       "        5.1191306,  5.0600905,  4.725851 ,  4.67399  ,  4.545318 ,\n",
       "        4.438529 ,  4.4004683], dtype=float32)"
      ]
     },
     "execution_count": 164,
     "metadata": {},
     "output_type": "execute_result"
    }
   ],
   "source": [
    "pc.std(0)"
   ]
  },
  {
   "cell_type": "code",
   "execution_count": null,
   "id": "b83472b9",
   "metadata": {},
   "outputs": [],
   "source": []
  }
 ],
 "metadata": {
  "kernelspec": {
   "display_name": "amlvae",
   "language": "python",
   "name": "python3"
  },
  "language_info": {
   "codemirror_mode": {
    "name": "ipython",
    "version": 3
   },
   "file_extension": ".py",
   "mimetype": "text/x-python",
   "name": "python",
   "nbconvert_exporter": "python",
   "pygments_lexer": "ipython3",
   "version": "3.12.10"
  }
 },
 "nbformat": 4,
 "nbformat_minor": 5
}
